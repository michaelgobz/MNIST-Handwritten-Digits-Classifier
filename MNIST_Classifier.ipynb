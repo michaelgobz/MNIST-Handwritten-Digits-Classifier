{
  "cells": [
    {
      "cell_type": "markdown",
      "metadata": {
        "id": "V9fZaoD2r1fO"
      },
      "source": [
        "# Introduction\n",
        "\n",
        "In this project, you will build a neural network of your own design to evaluate the MNIST dataset.\n",
        "\n",
        "Some of the benchmark results on MNIST include can be found [on Yann LeCun's page](https://webcache.googleusercontent.com/search?q=cache:stAVPik6onEJ:yann.lecun.com/exdb/mnist) and include:\n",
        "\n",
        "88% [Lecun et al., 1998](https://hal.science/hal-03926082/document)\n",
        "\n",
        "95.3% [Lecun et al., 1998](https://hal.science/hal-03926082v1/document)\n",
        "\n",
        "99.65% [Ciresan et al., 2011](http://people.idsia.ch/~juergen/ijcai2011.pdf)\n",
        "\n",
        "\n",
        "MNIST is a great dataset for sanity checking your models, since the accuracy levels achieved by large convolutional neural networks and small linear models are both quite high. This makes it important to be familiar with the data.\n",
        "\n",
        "## Installation"
      ]
    },
    {
      "cell_type": "code",
      "metadata": {
        "ExecuteTime": {
          "end_time": "2024-06-03T08:50:05.807760Z",
          "start_time": "2024-06-03T08:50:05.795584Z"
        },
        "id": "XuB_areYr1fQ"
      },
      "source": [
        "# Update the PATH to include the user installation directory.\n",
        "import os\n",
        "os.environ['PATH'] = f\"{os.environ['PATH']}:/root/.local/bin\""
      ],
      "outputs": [],
      "execution_count": 20
    },
    {
      "cell_type": "markdown",
      "metadata": {
        "id": "DVhINLzRr1fR"
      },
      "source": [
        "#### Important: Restart the Kernel before you move on to the next step."
      ]
    },
    {
      "cell_type": "code",
      "metadata": {
        "colab": {
          "base_uri": "https://localhost:8080/"
        },
        "id": "5hecbVW2r1fR",
        "outputId": "097f1f8b-c2e9-425e-ad1d-275c4f43fbf8"
      },
      "source": [
        "# Install requirements\n",
        "!python -m pip install -r requirements.txt"
      ],
      "outputs": [
        {
          "output_type": "stream",
          "name": "stdout",
          "text": [
            "\u001b[31mERROR: Could not open requirements file: [Errno 2] No such file or directory: 'requirements.txt'\u001b[0m\u001b[31m\n",
            "\u001b[0m"
          ]
        }
      ],
      "execution_count": 21
    },
    {
      "cell_type": "markdown",
      "metadata": {
        "id": "3t4rEQfIr1fS"
      },
      "source": [
        "## Imports"
      ]
    },
    {
      "metadata": {
        "id": "32x1Uv_9r1fS"
      },
      "cell_type": "code",
      "outputs": [],
      "execution_count": 1,
      "source": [
        "## This cell contains the essential imports you will need – DO NOT CHANGE THE CONTENTS! ##\n",
        "import torch\n",
        "import torch.nn as nn\n",
        "import torch.nn.functional as F\n",
        "import torch.optim as optim\n",
        "import torchvision\n",
        "import torchvision.transforms as transforms\n",
        "import matplotlib.pyplot as plt\n",
        "from torchvision import datasets , transforms\n",
        "import numpy as np"
      ]
    },
    {
      "cell_type": "markdown",
      "metadata": {
        "id": "wXOLaILHr1fS"
      },
      "source": [
        "## Load the Dataset\n",
        "\n",
        "Specify your transforms as a list if you intend to .\n",
        "The transforms module is already loaded as `transforms`.\n",
        "\n",
        "MNIST is fortunately included in the torchvision module.\n",
        "Then, you can create your dataset using the `MNIST` object from `torchvision.datasets` ([the documentation is available here](https://pytorch.org/vision/stable/datasets.html#mnist)).\n",
        "Make sure to specify `download=True`!\n",
        "\n",
        "Once your dataset is created, you'll also need to define a `DataLoader` from the `torch.utils.data` module for both the train and the test set."
      ]
    },
    {
      "cell_type": "code",
      "execution_count": 2,
      "metadata": {
        "colab": {
          "base_uri": "https://localhost:8080/"
        },
        "id": "VQSTejvOr1fS",
        "outputId": "91942b73-ebd8-4a7a-aa9d-49322090e1d6"
      },
      "outputs": [
        {
          "output_type": "stream",
          "name": "stdout",
          "text": [
            "Downloading http://yann.lecun.com/exdb/mnist/train-images-idx3-ubyte.gz\n",
            "Failed to download (trying next):\n",
            "HTTP Error 403: Forbidden\n",
            "\n",
            "Downloading https://ossci-datasets.s3.amazonaws.com/mnist/train-images-idx3-ubyte.gz\n",
            "Downloading https://ossci-datasets.s3.amazonaws.com/mnist/train-images-idx3-ubyte.gz to /root/deeplearning-project/MNIST/Train/MNIST/raw/train-images-idx3-ubyte.gz\n"
          ]
        },
        {
          "output_type": "stream",
          "name": "stderr",
          "text": [
            "100%|██████████| 9912422/9912422 [00:00<00:00, 12902487.49it/s]\n"
          ]
        },
        {
          "output_type": "stream",
          "name": "stdout",
          "text": [
            "Extracting /root/deeplearning-project/MNIST/Train/MNIST/raw/train-images-idx3-ubyte.gz to /root/deeplearning-project/MNIST/Train/MNIST/raw\n",
            "\n",
            "Downloading http://yann.lecun.com/exdb/mnist/train-labels-idx1-ubyte.gz\n",
            "Failed to download (trying next):\n",
            "HTTP Error 403: Forbidden\n",
            "\n",
            "Downloading https://ossci-datasets.s3.amazonaws.com/mnist/train-labels-idx1-ubyte.gz\n",
            "Downloading https://ossci-datasets.s3.amazonaws.com/mnist/train-labels-idx1-ubyte.gz to /root/deeplearning-project/MNIST/Train/MNIST/raw/train-labels-idx1-ubyte.gz\n"
          ]
        },
        {
          "output_type": "stream",
          "name": "stderr",
          "text": [
            "100%|██████████| 28881/28881 [00:00<00:00, 344530.92it/s]\n"
          ]
        },
        {
          "output_type": "stream",
          "name": "stdout",
          "text": [
            "Extracting /root/deeplearning-project/MNIST/Train/MNIST/raw/train-labels-idx1-ubyte.gz to /root/deeplearning-project/MNIST/Train/MNIST/raw\n",
            "\n",
            "Downloading http://yann.lecun.com/exdb/mnist/t10k-images-idx3-ubyte.gz\n",
            "Failed to download (trying next):\n",
            "HTTP Error 403: Forbidden\n",
            "\n",
            "Downloading https://ossci-datasets.s3.amazonaws.com/mnist/t10k-images-idx3-ubyte.gz\n",
            "Downloading https://ossci-datasets.s3.amazonaws.com/mnist/t10k-images-idx3-ubyte.gz to /root/deeplearning-project/MNIST/Train/MNIST/raw/t10k-images-idx3-ubyte.gz\n"
          ]
        },
        {
          "output_type": "stream",
          "name": "stderr",
          "text": [
            "100%|██████████| 1648877/1648877 [00:00<00:00, 3189110.10it/s]\n"
          ]
        },
        {
          "output_type": "stream",
          "name": "stdout",
          "text": [
            "Extracting /root/deeplearning-project/MNIST/Train/MNIST/raw/t10k-images-idx3-ubyte.gz to /root/deeplearning-project/MNIST/Train/MNIST/raw\n",
            "\n",
            "Downloading http://yann.lecun.com/exdb/mnist/t10k-labels-idx1-ubyte.gz\n",
            "Failed to download (trying next):\n",
            "HTTP Error 403: Forbidden\n",
            "\n",
            "Downloading https://ossci-datasets.s3.amazonaws.com/mnist/t10k-labels-idx1-ubyte.gz\n",
            "Downloading https://ossci-datasets.s3.amazonaws.com/mnist/t10k-labels-idx1-ubyte.gz to /root/deeplearning-project/MNIST/Train/MNIST/raw/t10k-labels-idx1-ubyte.gz\n"
          ]
        },
        {
          "output_type": "stream",
          "name": "stderr",
          "text": [
            "100%|██████████| 4542/4542 [00:00<00:00, 9375260.22it/s]\n"
          ]
        },
        {
          "output_type": "stream",
          "name": "stdout",
          "text": [
            "Extracting /root/deeplearning-project/MNIST/Train/MNIST/raw/t10k-labels-idx1-ubyte.gz to /root/deeplearning-project/MNIST/Train/MNIST/raw\n",
            "\n",
            "Downloading http://yann.lecun.com/exdb/mnist/train-images-idx3-ubyte.gz\n",
            "Failed to download (trying next):\n",
            "HTTP Error 403: Forbidden\n",
            "\n",
            "Downloading https://ossci-datasets.s3.amazonaws.com/mnist/train-images-idx3-ubyte.gz\n",
            "Downloading https://ossci-datasets.s3.amazonaws.com/mnist/train-images-idx3-ubyte.gz to /root/deeplearning-project/MNIST/Test/MNIST/raw/train-images-idx3-ubyte.gz\n"
          ]
        },
        {
          "output_type": "stream",
          "name": "stderr",
          "text": [
            "100%|██████████| 9912422/9912422 [00:00<00:00, 12751337.75it/s]\n"
          ]
        },
        {
          "output_type": "stream",
          "name": "stdout",
          "text": [
            "Extracting /root/deeplearning-project/MNIST/Test/MNIST/raw/train-images-idx3-ubyte.gz to /root/deeplearning-project/MNIST/Test/MNIST/raw\n",
            "\n",
            "Downloading http://yann.lecun.com/exdb/mnist/train-labels-idx1-ubyte.gz\n",
            "Failed to download (trying next):\n",
            "HTTP Error 403: Forbidden\n",
            "\n",
            "Downloading https://ossci-datasets.s3.amazonaws.com/mnist/train-labels-idx1-ubyte.gz\n",
            "Downloading https://ossci-datasets.s3.amazonaws.com/mnist/train-labels-idx1-ubyte.gz to /root/deeplearning-project/MNIST/Test/MNIST/raw/train-labels-idx1-ubyte.gz\n"
          ]
        },
        {
          "output_type": "stream",
          "name": "stderr",
          "text": [
            "100%|██████████| 28881/28881 [00:00<00:00, 347760.30it/s]\n"
          ]
        },
        {
          "output_type": "stream",
          "name": "stdout",
          "text": [
            "Extracting /root/deeplearning-project/MNIST/Test/MNIST/raw/train-labels-idx1-ubyte.gz to /root/deeplearning-project/MNIST/Test/MNIST/raw\n",
            "\n",
            "Downloading http://yann.lecun.com/exdb/mnist/t10k-images-idx3-ubyte.gz\n",
            "Failed to download (trying next):\n",
            "HTTP Error 403: Forbidden\n",
            "\n",
            "Downloading https://ossci-datasets.s3.amazonaws.com/mnist/t10k-images-idx3-ubyte.gz\n",
            "Downloading https://ossci-datasets.s3.amazonaws.com/mnist/t10k-images-idx3-ubyte.gz to /root/deeplearning-project/MNIST/Test/MNIST/raw/t10k-images-idx3-ubyte.gz\n"
          ]
        },
        {
          "output_type": "stream",
          "name": "stderr",
          "text": [
            "100%|██████████| 1648877/1648877 [00:00<00:00, 3227377.04it/s]\n"
          ]
        },
        {
          "output_type": "stream",
          "name": "stdout",
          "text": [
            "Extracting /root/deeplearning-project/MNIST/Test/MNIST/raw/t10k-images-idx3-ubyte.gz to /root/deeplearning-project/MNIST/Test/MNIST/raw\n",
            "\n",
            "Downloading http://yann.lecun.com/exdb/mnist/t10k-labels-idx1-ubyte.gz\n",
            "Failed to download (trying next):\n",
            "HTTP Error 403: Forbidden\n",
            "\n",
            "Downloading https://ossci-datasets.s3.amazonaws.com/mnist/t10k-labels-idx1-ubyte.gz\n",
            "Downloading https://ossci-datasets.s3.amazonaws.com/mnist/t10k-labels-idx1-ubyte.gz to /root/deeplearning-project/MNIST/Test/MNIST/raw/t10k-labels-idx1-ubyte.gz\n"
          ]
        },
        {
          "output_type": "stream",
          "name": "stderr",
          "text": [
            "100%|██████████| 4542/4542 [00:00<00:00, 4411887.16it/s]"
          ]
        },
        {
          "output_type": "stream",
          "name": "stdout",
          "text": [
            "Extracting /root/deeplearning-project/MNIST/Test/MNIST/raw/t10k-labels-idx1-ubyte.gz to /root/deeplearning-project/MNIST/Test/MNIST/raw\n",
            "\n"
          ]
        },
        {
          "output_type": "stream",
          "name": "stderr",
          "text": [
            "\n"
          ]
        }
      ],
      "source": [
        "# Define transforms\n",
        "transform =  transforms.Compose([ transforms.ToTensor(),\n",
        "                                  transforms.Normalize((0.5,), (0.5,))])\n",
        "\n",
        "# Create a training set and define training dataloader\n",
        "trainset = datasets.MNIST('~/deeplearning-project/MNIST/Train', download=True, train=True, transform=transform)\n",
        "trainloader = torch.utils.data.DataLoader(trainset, batch_size=64, shuffle=True)\n",
        "\n",
        "# Create a test set and define test dataloader\n",
        "testset = datasets.MNIST('~/deeplearning-project/MNIST/Test', download=True, train=False, transform=transform)\n",
        "testloader = torch.utils.data.DataLoader(testset, batch_size=64, shuffle=True)"
      ]
    },
    {
      "cell_type": "markdown",
      "metadata": {
        "id": "U4ag31FVr1fT"
      },
      "source": [
        "## Justify your preprocessing\n",
        "\n",
        "There is need for preprocessing the images from numpy to torch tensor and then normalise the images from all colour channels to between  0 to 1 so that the input dimensionality is managable."
      ]
    },
    {
      "cell_type": "markdown",
      "metadata": {
        "id": "HNBOysqbr1fT"
      },
      "source": [
        "**DOUBLE CLICK THIS CELL TO MODIFY**"
      ]
    },
    {
      "cell_type": "markdown",
      "metadata": {
        "id": "CD3PfGxsr1fU"
      },
      "source": [
        "## Explore the Dataset\n",
        "Using matplotlib, numpy, and torch, explore the dimensions of your data.\n",
        "\n",
        "You can view images using the `show5` function defined below – it takes a data loader as an argument.\n",
        "Remember that normalized images will look really weird to you! You may want to try changing your transforms to view images.\n",
        "Typically using no transforms other than `toTensor()` works well for viewing – but not as well for training your network.\n",
        "If `show5` doesn't work, go back and check your code for creating your data loaders and your training/test sets."
      ]
    },
    {
      "cell_type": "code",
      "execution_count": 3,
      "metadata": {
        "id": "RSxn3MiEr1fU"
      },
      "outputs": [],
      "source": [
        "## This cell contains a function for showing 5 images from a dataloader – DO NOT CHANGE THE CONTENTS! ##\n",
        "def show5(img_loader):\n",
        "    dataiter = iter(img_loader)\n",
        "\n",
        "    batch = next(dataiter)\n",
        "    labels = batch[1][0:5]\n",
        "    images = batch[0][0:5]\n",
        "    for i in range(5):\n",
        "        print(int(labels[i].detach()))\n",
        "\n",
        "        image = images[i].numpy()\n",
        "        plt.imshow(image.T.squeeze().T)\n",
        "        plt.show()"
      ]
    },
    {
      "metadata": {
        "colab": {
          "base_uri": "https://localhost:8080/"
        },
        "id": "yRaPKNr6r1fV",
        "outputId": "357595a9-a6b7-4a1a-801b-ba1970c6e823"
      },
      "cell_type": "code",
      "outputs": [
        {
          "output_type": "stream",
          "name": "stdout",
          "text": [
            "<class 'torch.Tensor'>\n",
            "torch.Size([64, 1, 28, 28])\n",
            "torch.Size([64])\n",
            "tensor([9, 1, 3, 0, 6, 3, 2, 9, 3, 4, 6, 8, 3, 8, 8, 5, 5, 7, 7, 4, 0, 9, 5, 1,\n",
            "        1, 7, 9, 0, 7, 0, 5, 4, 4, 6, 0, 0, 8, 6, 8, 6, 8, 9, 1, 0, 4, 4, 6, 9,\n",
            "        7, 2, 3, 2, 3, 7, 6, 0, 1, 7, 1, 5, 3, 0, 4, 1])\n"
          ]
        }
      ],
      "execution_count": 4,
      "source": [
        "# checkout the input and output spaces.\n",
        "dataiter = iter(trainloader) #queue containing the batches\n",
        "images, labels = next(dataiter) #fetches the next batch in the queue\n",
        "print(type(images))\n",
        "print(images.shape)\n",
        "print(labels.shape)\n",
        "print(labels)"
      ]
    },
    {
      "metadata": {
        "colab": {
          "base_uri": "https://localhost:8080/"
        },
        "id": "lJBDHEuxr1fV",
        "outputId": "3fba2725-2013-4e69-9c9b-3e5342ff18e1"
      },
      "cell_type": "code",
      "outputs": [
        {
          "output_type": "execute_result",
          "data": {
            "text/plain": [
              "60000"
            ]
          },
          "metadata": {},
          "execution_count": 5
        }
      ],
      "execution_count": 5,
      "source": [
        "# get the size of the trainset\n",
        "len(trainloader.dataset)"
      ]
    },
    {
      "metadata": {
        "colab": {
          "base_uri": "https://localhost:8080/"
        },
        "id": "ew-N7E22r1fW",
        "outputId": "0f9b1ebc-3f73-4b37-9002-09a672a85a16"
      },
      "cell_type": "code",
      "outputs": [
        {
          "output_type": "execute_result",
          "data": {
            "text/plain": [
              "10000"
            ]
          },
          "metadata": {},
          "execution_count": 6
        }
      ],
      "execution_count": 6,
      "source": [
        "# ge the size of the test set\n",
        "len(testloader.dataset)"
      ]
    },
    {
      "cell_type": "code",
      "execution_count": 7,
      "metadata": {
        "colab": {
          "base_uri": "https://localhost:8080/",
          "height": 1000
        },
        "id": "g42CSkjyr1fW",
        "outputId": "ceff738c-712a-4a74-bbf5-26bb4c23baee"
      },
      "outputs": [
        {
          "output_type": "stream",
          "name": "stdout",
          "text": [
            "2\n"
          ]
        },
        {
          "output_type": "display_data",
          "data": {
            "text/plain": [
              "<Figure size 640x480 with 1 Axes>"
            ],
            "image/png": "[encoded data removed]"
          },
          "metadata": {}
        },
        {
          "output_type": "stream",
          "name": "stdout",
          "text": [
            "3\n"
          ]
        },
        {
          "output_type": "display_data",
          "data": {
            "text/plain": [
              "<Figure size 640x480 with 1 Axes>"
            ],
            "image/png": "[encoded data removed]"
          },
          "metadata": {}
        },
        {
          "output_type": "stream",
          "name": "stdout",
          "text": [
            "0\n"
          ]
        },
        {
          "output_type": "display_data",
          "data": {
            "text/plain": [
              "<Figure size 640x480 with 1 Axes>"
            ],
            "image/png": "[encoded data removed]"
          },
          "metadata": {}
        },
        {
          "output_type": "stream",
          "name": "stdout",
          "text": [
            "1\n"
          ]
        },
        {
          "output_type": "display_data",
          "data": {
            "text/plain": [
              "<Figure size 640x480 with 1 Axes>"
            ],
            "image/png": "[encoded data removed]"
          },
          "metadata": {}
        },
        {
          "output_type": "stream",
          "name": "stdout",
          "text": [
            "5\n"
          ]
        },
        {
          "output_type": "display_data",
          "data": {
            "text/plain": [
              "<Figure size 640x480 with 1 Axes>"
            ],
            "image/png": "[encoded data removed]"
          },
          "metadata": {}
        }
      ],
      "source": [
        "# Explore data\n",
        "# training set goes first\n",
        "show5(trainloader)"
      ]
    },
    {
      "metadata": {
        "colab": {
          "base_uri": "https://localhost:8080/",
          "height": 1000
        },
        "id": "33pHsOVcr1fW",
        "outputId": "76b5b60a-6d8a-416f-e4d4-629ce2ffb645"
      },
      "cell_type": "code",
      "outputs": [
        {
          "output_type": "stream",
          "name": "stdout",
          "text": [
            "8\n"
          ]
        },
        {
          "output_type": "display_data",
          "data": {
            "text/plain": [
              "<Figure size 640x480 with 1 Axes>"
            ],
            "image/png": "[encoded data removed]"
          },
          "metadata": {}
        },
        {
          "output_type": "stream",
          "name": "stdout",
          "text": [
            "7\n"
          ]
        },
        {
          "output_type": "display_data",
          "data": {
            "text/plain": [
              "<Figure size 640x480 with 1 Axes>"
            ],
            "image/png": "[encoded data removed]"
          },
          "metadata": {}
        },
        {
          "output_type": "stream",
          "name": "stdout",
          "text": [
            "3\n"
          ]
        },
        {
          "output_type": "display_data",
          "data": {
            "text/plain": [
              "<Figure size 640x480 with 1 Axes>"
            ],
            "image/png": "[encoded data removed]"
          },
          "metadata": {}
        },
        {
          "output_type": "stream",
          "name": "stdout",
          "text": [
            "0\n"
          ]
        },
        {
          "output_type": "display_data",
          "data": {
            "text/plain": [
              "<Figure size 640x480 with 1 Axes>"
            ],
            "image/png": "[encoded data removed]"
          },
          "metadata": {}
        },
        {
          "output_type": "stream",
          "name": "stdout",
          "text": [
            "1\n"
          ]
        },
        {
          "output_type": "display_data",
          "data": {
            "text/plain": [
              "<Figure size 640x480 with 1 Axes>"
            ],
            "image/png": "[encoded data removed]"
          },
          "metadata": {}
        }
      ],
      "execution_count": 8,
      "source": [
        "# testing set\n",
        "show5(testloader)"
      ]
    },
    {
      "metadata": {
        "id": "sIGdj_Efr1fW"
      },
      "cell_type": "markdown",
      "source": [
        "#### Create a validation Set from the Trainset"
      ]
    },
    {
      "metadata": {
        "id": "E2bSs-qnr1fW"
      },
      "cell_type": "code",
      "outputs": [],
      "execution_count": 9,
      "source": [
        "trainset, validset = torch.utils.data.random_split(trainset,[50000,10000])\n",
        "\n",
        "trainloader_new = torch.utils.data.DataLoader(trainset, batch_size=64, shuffle=True)\n",
        "validloader = torch.utils.data.DataLoader(validset, batch_size=64, shuffle=True)"
      ]
    },
    {
      "cell_type": "markdown",
      "metadata": {
        "id": "VuOOoehpr1fW"
      },
      "source": [
        "## Build your Neural Network\n",
        "Using the layers in `torch.nn` (which has been imported as `nn`) and the `torch.nn.functional` module (imported as `F`), construct a neural network based on the parameters of the dataset.\n",
        "Use any architecture you like.\n",
        "\n",
        "*Note*: If you did not flatten your tensors in your transforms or as part of your preprocessing and you are using only `Linear` layers, make sure to use the `Flatten` layer in your network!"
      ]
    },
    {
      "cell_type": "code",
      "execution_count": 10,
      "metadata": {
        "id": "VXrFX6hjr1fX"
      },
      "outputs": [],
      "source": [
        "class Classifier(nn.Module):\n",
        "    def __init__(self):\n",
        "        super().__init__()\n",
        "        self.fc1 = nn.Linear(784, 256)\n",
        "        self.fc2 = nn.Linear(256, 128)\n",
        "        self.fc3 = nn.Linear(128, 64)\n",
        "        self.fc4 = nn.Linear(64, 10)\n",
        "\n",
        "        # Define dropout layers with a dropout probability (e.g., 0.2)\n",
        "        self.dropout = nn.Dropout(p=0.2)\n",
        "\n",
        "    def forward(self, x):\n",
        "        # make sure input tensor is flattened\n",
        "        x = x.view(x.shape[0], -1)\n",
        "        x = F.relu(self.fc1(x))\n",
        "        x = self.dropout(x)  # Apply dropout after the first layer\n",
        "        x = F.relu(self.fc2(x))\n",
        "        x = self.dropout(x)  # Apply dropout after the second layer\n",
        "        x = F.relu(self.fc3(x))\n",
        "        x = self.dropout(x)  # Apply dropout after the rhird layer\n",
        "        x=self.fc4(x) #output shape ((64,10)) #No dropout added\n",
        "        #print(x.shape)\n",
        "        x = F.log_softmax(x, dim=1) #logsoftmax for each row\n",
        "        #print(x.shape) #output shape ((64,10))\n",
        "        return x"
      ]
    },
    {
      "cell_type": "markdown",
      "metadata": {
        "id": "epWKzENwr1fX"
      },
      "source": [
        "Specify a loss function and an optimizer, and instantiate the model.\n",
        "\n",
        "If you use a less common loss function, please note why you chose that loss function in a comment."
      ]
    },
    {
      "cell_type": "code",
      "execution_count": 11,
      "metadata": {
        "id": "5Xrw4gGYr1fX"
      },
      "outputs": [],
      "source": [
        "model = Classifier()\n",
        "# ToDo: Answer. Is the use of this Loss function Correct/\n",
        "criterion = nn.NLLLoss()\n",
        "optimizer = optim.Adam(model.parameters(), lr=0.003)"
      ]
    },
    {
      "cell_type": "markdown",
      "metadata": {
        "id": "09Vvjle4r1fX"
      },
      "source": [
        "## Running your Neural Network\n",
        "Use whatever method you like to train your neural network, and ensure you record the average loss at each epoch.\n",
        "Don't forget to use `torch.device()` and the `.to()` method for both your model and your data if you are using GPU!\n",
        "\n",
        "If you want to print your loss **during** each epoch, you can use the `enumerate` function and print the loss after a set number of batches. 250 batches works well for most people!"
      ]
    },
    {
      "metadata": {
        "colab": {
          "base_uri": "https://localhost:8080/"
        },
        "id": "IZ5W8eelr1fX",
        "outputId": "64df0d18-2c75-446c-c955-0f8e6955b012"
      },
      "cell_type": "code",
      "outputs": [
        {
          "output_type": "execute_result",
          "data": {
            "text/plain": [
              "Classifier(\n",
              "  (fc1): Linear(in_features=784, out_features=256, bias=True)\n",
              "  (fc2): Linear(in_features=256, out_features=128, bias=True)\n",
              "  (fc3): Linear(in_features=128, out_features=64, bias=True)\n",
              "  (fc4): Linear(in_features=64, out_features=10, bias=True)\n",
              "  (dropout): Dropout(p=0.2, inplace=False)\n",
              ")"
            ]
          },
          "metadata": {},
          "execution_count": 12
        }
      ],
      "execution_count": 12,
      "source": [
        "# define the device\n",
        "device = torch.device(\"cuda\" if torch.cuda.is_available() else \"cpu\")\n",
        "device\n",
        "\n",
        "# put the model to run on cuda\n",
        "model.to(device)"
      ]
    },
    {
      "cell_type": "code",
      "execution_count": 13,
      "metadata": {
        "colab": {
          "base_uri": "https://localhost:8080/"
        },
        "id": "WwO-dzfWr1fX",
        "outputId": "e780bf74-c6c8-4184-d84e-156ad02df3ed"
      },
      "outputs": [
        {
          "output_type": "stream",
          "name": "stdout",
          "text": [
            "Epoch: 0     Training loss: 0.5153688806802263     Validation loss: 0.23659750131095292\n",
            "Epoch: 1     Training loss: 0.30424752662344207     Validation loss: 0.20881401920679268\n",
            "Epoch: 2     Training loss: 0.27250038486097933     Validation loss: 0.1926098803568418\n",
            "Epoch: 3     Training loss: 0.24343955148097193     Validation loss: 0.19618644427721668\n",
            "Epoch: 4     Training loss: 0.23703367195909134     Validation loss: 0.15035033440602955\n",
            "Epoch: 5     Training loss: 0.22435323211133404     Validation loss: 0.17548518169932303\n",
            "Epoch: 6     Training loss: 0.21857617658508174     Validation loss: 0.1534112004124245\n",
            "Epoch: 7     Training loss: 0.21276800983997485     Validation loss: 0.19116516648584111\n",
            "Epoch: 8     Training loss: 0.2104760912578086     Validation loss: 0.13431007405565043\n",
            "Epoch: 9     Training loss: 0.20280075459586233     Validation loss: 0.13457461887863792\n"
          ]
        }
      ],
      "source": [
        "#Training Loop\n",
        "epochs = 10\n",
        "TLL=[]\n",
        "VLL=[]\n",
        "valid_loss=0;running_loss=0;\n",
        "for e in range(epochs):\n",
        "    running_loss = 0\n",
        "    valid_loss = 0\n",
        "\n",
        "    #ToDo: Start training\n",
        "    model.train()\n",
        "    for images, labels in trainloader_new:\n",
        "        images, labels = images.to(device), labels.to(device)\n",
        "        optimizer.zero_grad()\n",
        "        log_ps = model(images)\n",
        "        loss = criterion(log_ps, labels)\n",
        "        loss.backward()\n",
        "        optimizer.step()\n",
        "        running_loss += loss.item()\n",
        "\n",
        "    #ToDo: Start validation\n",
        "    model.eval()\n",
        "    for images, labels in validloader:\n",
        "        images, labels = images.to(device), labels.to(device)\n",
        "        log_ps = model(images)\n",
        "        loss = criterion(log_ps, labels) #summing\n",
        "        valid_loss += loss.item()\n",
        "    else:\n",
        "        T=running_loss/len(trainloader_new) #Error/batch\n",
        "        V=valid_loss/len(validloader)    #Error/batch\n",
        "        print(f\"Epoch: {e}\", f\"    Training loss: {T}\",f\"    Validation loss: {V}\")\n",
        "        TLL.append(T)\n",
        "        VLL.append(V)"
      ]
    },
    {
      "cell_type": "markdown",
      "metadata": {
        "id": "bpOw0iyor1fX"
      },
      "source": [
        "Plot the training loss (and validation loss/accuracy, if recorded)."
      ]
    },
    {
      "cell_type": "code",
      "execution_count": 14,
      "metadata": {
        "colab": {
          "base_uri": "https://localhost:8080/",
          "height": 470
        },
        "id": "aHjBTxb4r1fY",
        "outputId": "1a132250-5ccd-4a54-dd5a-55af445585fb"
      },
      "outputs": [
        {
          "output_type": "execute_result",
          "data": {
            "text/plain": [
              "Text(0.5, 1.0, 'Training losses vs Validation losses')"
            ]
          },
          "metadata": {},
          "execution_count": 14
        },
        {
          "output_type": "display_data",
          "data": {
            "text/plain": [
              "<Figure size 640x480 with 1 Axes>"
            ],
            "image/png": "[encoded data removed]"
          },
          "metadata": {}
        }
      ],
      "source": [
        "title = f'Training losses vs Validation losses'\n",
        "plt.plot(TLL, label='Training loss')\n",
        "plt.plot(VLL, label='Validation loss')\n",
        "plt.legend(frameon=False)\n",
        "plt.title(title)"
      ]
    },
    {
      "cell_type": "markdown",
      "metadata": {
        "id": "gIpLemQxr1fY"
      },
      "source": [
        "## Testing your model\n",
        "Using the previously created `DataLoader` for the test set, compute the percentage of correct predictions using the highest probability prediction.\n",
        "\n",
        "If your accuracy is over 90%, great work, but see if you can push a bit further!\n",
        "If your accuracy is under 90%, you'll need to make improvements.\n",
        "Go back and check your model architecture, loss function, and optimizer to make sure they're appropriate for an image classification task."
      ]
    },
    {
      "cell_type": "code",
      "execution_count": 15,
      "metadata": {
        "colab": {
          "base_uri": "https://localhost:8080/"
        },
        "id": "RQylxZyjr1fY",
        "outputId": "79ea8389-dcd2-47d6-8b4b-3a5e8124baff"
      },
      "outputs": [
        {
          "output_type": "stream",
          "name": "stdout",
          "text": [
            "Test loss: 0.132.. Test accuracy: 0.964\n"
          ]
        }
      ],
      "source": [
        "\n",
        "test_loss = 0\n",
        "test_accuracy = 0\n",
        "TestLL = []\n",
        "with torch.no_grad():\n",
        "    for inputs, labels in testloader:\n",
        "        inputs, labels = inputs.to(device), labels.to(device)\n",
        "        logps = model.forward(inputs)\n",
        "        batch_loss = criterion(logps, labels)\n",
        "\n",
        "        test_loss += batch_loss.item()\n",
        "\n",
        "        # Calculate accuracy\n",
        "        ps = logps\n",
        "        top_p, top_class = ps.topk(1, dim=1)\n",
        "        equals = top_class == labels.view(*top_class.shape)\n",
        "        test_accuracy += torch.mean(equals.type(torch.FloatTensor)).item()\n",
        "\n",
        "    else:\n",
        "        TestLL.append(test_loss/len(testloader))\n",
        "        print(\n",
        "            f\"Test loss: {test_loss/len(testloader):.3f}.. \"\n",
        "            f\"Test accuracy: {test_accuracy/len(testloader):.3f}\")\n",
        "        test_loss = 0\n",
        "        test_accuracy = 0"
      ]
    },
    {
      "cell_type": "markdown",
      "source": [
        "The test Accuracy is: 96.4%"
      ],
      "metadata": {
        "id": "re3RZH8mDHIS"
      }
    },
    {
      "cell_type": "markdown",
      "metadata": {
        "id": "0Zi9im2hr1fY"
      },
      "source": [
        "## Improving your model\n",
        "\n",
        "Once your model is done training, try tweaking your hyperparameters and training again below to improve your accuracy on the test set!"
      ]
    },
    {
      "cell_type": "code",
      "execution_count": 16,
      "metadata": {
        "colab": {
          "base_uri": "https://localhost:8080/"
        },
        "id": "1ixhF4z_r1fY",
        "outputId": "21a46d53-1d91-4e4e-a88d-3f3fbb90ba62"
      },
      "outputs": [
        {
          "output_type": "stream",
          "name": "stdout",
          "text": [
            "Epoch: 0     Training loss: 0.17186373281602263     Validation loss: 0.12019476503916797\n",
            "Epoch: 1     Training loss: 0.1586171877966441     Validation loss: 0.1132547353768045\n",
            "Epoch: 2     Training loss: 0.15057574911578975     Validation loss: 0.12325448014292938\n",
            "Epoch: 3     Training loss: 0.15174497204982793     Validation loss: 0.1392012953604008\n",
            "Epoch: 4     Training loss: 0.15069553847222225     Validation loss: 0.12571953873114458\n",
            "Epoch: 5     Training loss: 0.1420245604789661     Validation loss: 0.11991069836328459\n",
            "Epoch: 6     Training loss: 0.14186052979706118     Validation loss: 0.11610057627022931\n",
            "Epoch: 7     Training loss: 0.1423813615713621     Validation loss: 0.1183395094674223\n",
            "Epoch: 8     Training loss: 0.14202908101989448     Validation loss: 0.11920214238558795\n",
            "Epoch: 9     Training loss: 0.13823090450655992     Validation loss: 0.13540897973083482\n",
            "Epoch: 10     Training loss: 0.139858679359724     Validation loss: 0.11933635750779538\n",
            "Epoch: 11     Training loss: 0.12797595531372424     Validation loss: 0.10990431507645994\n",
            "Epoch: 12     Training loss: 0.13347836089668239     Validation loss: 0.12880940233567836\n",
            "Epoch: 13     Training loss: 0.1283008783348286     Validation loss: 0.1082474078633081\n",
            "Epoch: 14     Training loss: 0.12540213711788434     Validation loss: 0.11601835676306892\n",
            "Epoch: 15     Training loss: 0.12458372371011625     Validation loss: 0.14331358169638522\n",
            "Epoch: 16     Training loss: 0.12410155730679288     Validation loss: 0.11414204441473648\n",
            "Epoch: 17     Training loss: 0.12335396361777849     Validation loss: 0.10326898951012238\n",
            "Epoch: 18     Training loss: 0.12026675317384054     Validation loss: 0.11236434887240457\n",
            "Epoch: 19     Training loss: 0.12259930994807054     Validation loss: 0.12128591741536074\n"
          ]
        }
      ],
      "source": [
        "# The params\n",
        "criterion = nn.NLLLoss()\n",
        "optimizer = optim.Adam(model.parameters(), lr=0.002)\n",
        "\n",
        "# model re-training loop\n",
        "epochs = 20\n",
        "TLL=[]\n",
        "VLL=[]\n",
        "valid_loss=0;running_loss=0;\n",
        "for e in range(epochs):\n",
        "    running_loss = 0\n",
        "    valid_loss = 0\n",
        "\n",
        "    #ToDo: Start training\n",
        "    model.train()\n",
        "    for images, labels in trainloader_new:\n",
        "        images, labels = images.to(device), labels.to(device)\n",
        "        optimizer.zero_grad()\n",
        "        log_ps = model(images)\n",
        "        loss = criterion(log_ps, labels)\n",
        "        loss.backward()\n",
        "        optimizer.step()\n",
        "        running_loss += loss.item()\n",
        "\n",
        "    #ToDo: Start validation\n",
        "    model.eval()\n",
        "    for images, labels in validloader:\n",
        "        images, labels = images.to(device), labels.to(device)\n",
        "        log_ps = model(images)\n",
        "        loss = criterion(log_ps, labels) #summing\n",
        "        valid_loss += loss.item()\n",
        "    else:\n",
        "        T=running_loss/len(trainloader_new) #Error/batch\n",
        "        V=valid_loss/len(validloader)    #Error/batch\n",
        "        print(f\"Epoch: {e}\", f\"    Training loss: {T}\",f\"    Validation loss: {V}\")\n",
        "        TLL.append(T)\n",
        "        VLL.append(V)\n"
      ]
    },
    {
      "cell_type": "code",
      "source": [
        "# Viusalize the train and valid\n",
        "title = f'Training losses vs Validation losses'\n",
        "plt.plot(TLL, label='Training loss')\n",
        "plt.plot(VLL, label='Validation loss')\n",
        "plt.legend(frameon=False)\n",
        "plt.title(title)"
      ],
      "metadata": {
        "colab": {
          "base_uri": "https://localhost:8080/",
          "height": 470
        },
        "id": "TvIvdt95xAAY",
        "outputId": "a0cb1349-0356-4ef2-f1ad-5fff7d618826"
      },
      "execution_count": 17,
      "outputs": [
        {
          "output_type": "execute_result",
          "data": {
            "text/plain": [
              "Text(0.5, 1.0, 'Training losses vs Validation losses')"
            ]
          },
          "metadata": {},
          "execution_count": 17
        },
        {
          "output_type": "display_data",
          "data": {
            "text/plain": [
              "<Figure size 640x480 with 1 Axes>"
            ],
            "image/png": "[encoded data removed]"
          },
          "metadata": {}
        }
      ]
    },
    {
      "cell_type": "markdown",
      "source": [
        "The model tends to over fit on the data, with more ephocs,\n",
        "possible reason here is that the dataset is quite small"
      ],
      "metadata": {
        "id": "-OSACQwkBxJg"
      }
    },
    {
      "cell_type": "code",
      "source": [
        "# Test the Tweaked model\n",
        "test_loss = 0\n",
        "test_accuracy = 0\n",
        "TestLL = []\n",
        "with torch.no_grad():\n",
        "    for inputs, labels in testloader:\n",
        "        inputs, labels = inputs.to(device), labels.to(device)\n",
        "        logps = model.forward(inputs)\n",
        "        batch_loss = criterion(logps, labels)\n",
        "\n",
        "        test_loss += batch_loss.item()\n",
        "\n",
        "        # Calculate accuracy\n",
        "        ps = logps\n",
        "        top_p, top_class = ps.topk(1, dim=1)\n",
        "        equals = top_class == labels.view(*top_class.shape)\n",
        "        test_accuracy += torch.mean(equals.type(torch.FloatTensor)).item()\n",
        "\n",
        "    else:\n",
        "        TestLL.append(test_loss/len(testloader))\n",
        "        print(\n",
        "            f\"Test loss: {test_loss/len(testloader):.3f}.. \"\n",
        "            f\"Test accuracy: {test_accuracy/len(testloader):.3f}\")\n",
        "        test_loss = 0\n",
        "        test_accuracy = 0"
      ],
      "metadata": {
        "colab": {
          "base_uri": "https://localhost:8080/"
        },
        "id": "h8MC9bFawXYg",
        "outputId": "3d17923b-1932-4674-af89-225fadf9d9cd"
      },
      "execution_count": 18,
      "outputs": [
        {
          "output_type": "stream",
          "name": "stdout",
          "text": [
            "Test loss: 0.114.. Test accuracy: 0.971\n"
          ]
        }
      ]
    },
    {
      "cell_type": "markdown",
      "source": [
        "The Test Accuracy for Re-training is: 97.1%"
      ],
      "metadata": {
        "id": "PBSW-45pDS3D"
      }
    },
    {
      "cell_type": "markdown",
      "metadata": {
        "id": "WE89ciqcr1fY"
      },
      "source": [
        "## Saving your model\n",
        "Using `torch.save`, save your model for future loading."
      ]
    },
    {
      "cell_type": "code",
      "execution_count": 22,
      "metadata": {
        "id": "C4c6DTUHr1fZ"
      },
      "outputs": [],
      "source": [
        "# save the state dict for the neural network.\n",
        "torch.save(model.state_dict(),'MNIST_Classifier.pt')"
      ]
    }
  ],
  "metadata": {
    "kernelspec": {
      "display_name": "Python 3",
      "name": "python3"
    },
    "language_info": {
      "codemirror_mode": {
        "name": "ipython",
        "version": 3
      },
      "file_extension": ".py",
      "mimetype": "text/x-python",
      "name": "python",
      "nbconvert_exporter": "python",
      "pygments_lexer": "ipython3",
      "version": "3.7.6"
    },
    "colab": {
      "provenance": [],
      "gpuType": "T4"
    },
    "accelerator": "GPU"
  },
  "nbformat": 4,
  "nbformat_minor": 0
}